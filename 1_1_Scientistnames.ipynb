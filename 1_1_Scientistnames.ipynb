version https://git-lfs.github.com/spec/v1
oid sha256:29acb3be9ab348d4e676e969cb0487164540ad71ccc433ff2a1834687d17d7ac
size 38189
