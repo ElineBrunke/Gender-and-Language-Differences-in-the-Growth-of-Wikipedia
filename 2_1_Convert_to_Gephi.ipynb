{
 "cells": [
  {
   "cell_type": "code",
   "execution_count": 4,
   "metadata": {},
   "outputs": [],
   "source": [
    "import networkx as nx\n",
    "import pandas as pd\n",
    "import get_dataremodelled as gdr"
   ]
  },
  {
   "cell_type": "code",
   "execution_count": 5,
   "metadata": {},
   "outputs": [],
   "source": [
    "gender=pd.read_csv('gendered_titles_final.csv')\n",
    "gender=gender.drop_duplicates(subset='Name')\n",
    "revisions=pd.read_csv('Data/revisions_en.csv')\n",
    "revisions_es=pd.read_csv('Data/revisions_es.csv')\n",
    "revisions_de=pd.read_csv('Data/revisions_de.csv')\n",
    "revisions_fr=pd.read_csv('Data/revisions_fr.csv')\n",
    "communities_en=pd.read_csv('all_communities_infomap.csv',sep=';')\n",
    "communities_es=pd.read_csv('all_communities_infomap_es.csv',sep=';')\n",
    "communities_de=pd.read_csv('all_communities_infomap_de.csv',sep=';')\n",
    "communities_fr=pd.read_csv('all_communities_infomap_fr.csv',sep=';')"
   ]
  },
  {
   "cell_type": "code",
   "execution_count": 4,
   "metadata": {},
   "outputs": [],
   "source": [
    "def prepgraph(df,gender,communities_en,communities_other):\n",
    "    df=gdr.prep_data(df,gender)\n",
    "    df=gdr.prep_links(df,gender)\n",
    "    df=df[df['Year']==2024]\n",
    "    G = nx.DiGraph()\n",
    "    for index, row in df.iterrows():\n",
    "        source = row['Name']\n",
    "        target = row['Link']\n",
    "        status = row['added_or_removed']\n",
    "        df_temp=df[df['Name']==target]\n",
    "        targetlen=len(df_temp)\n",
    "        df_temp=df[df['Name']==source]\n",
    "        sourcelen=len(df_temp)\n",
    "        if (status == 'added' or status == 'unchanged') and target!=source:\n",
    "            if source not in G:\n",
    "                G.add_node(source)\n",
    "            if targetlen>0 or sourcelen>0:\n",
    "                if target not in G:\n",
    "                    G.add_node(target)\n",
    "                G.add_edge(source, target)  \n",
    "\n",
    "    communities_en=communities_en[communities_en['Year']==2024]\n",
    "    communities_en=communities_en[communities_en['Size']>50]\n",
    "    communities_en['Members']=communities_en['Members'].apply(lambda x: x.split(', '))\n",
    "    communities_en=communities_en.explode('Members')\n",
    "    communities_en.rename(columns = {'Members':'Name'}, inplace = True)\n",
    "    communities_other=communities_other[communities_other['Year']==2024]\n",
    "    communities_other=communities_other[communities_other['Size']>50]\n",
    "    communities_other['Members']=communities_other['Members'].apply(lambda x: x.split(', '))\n",
    "    communities_other=communities_other.explode('Members')\n",
    "    communities_other.rename(columns = {'Members':'Name'}, inplace = True)\n",
    "    communities_en=communities_en[['Name','Community ID']]\n",
    "    communities_other=communities_other[['Name','Community ID']]\n",
    "    communities_en['Community ID'] = 'C' + communities_en['Community ID'].astype(str)\n",
    "    communities_other['Community ID'] = 'C' + communities_other['Community ID'].astype(str)\n",
    "    for node in G.nodes():\n",
    "        if node in communities_en['Name'].values:\n",
    "            G.nodes[node]['CommunityEN']=communities_en[communities_en['Name']==node]['Community ID'].values[0]\n",
    "        else:\n",
    "            G.nodes[node]['CommunityEN']='None'\n",
    "        if node in communities_other['Name'].values:\n",
    "            G.nodes[node]['CommunityLang']=communities_other[communities_other['Name']==node]['Community ID'].values[0]\n",
    "        else:\n",
    "            G.nodes[node]['CommunityLang']='None'\n",
    "        if gender[gender['Name']==node]['gender'].values[0]=='f':\n",
    "            G.nodes[node]['gender']='f'\n",
    "        else:\n",
    "            G.nodes[node]['gender']='m'\n",
    "    return G\n"
   ]
  },
  {
   "cell_type": "code",
   "execution_count": 5,
   "metadata": {},
   "outputs": [],
   "source": [
    "G_en=prepgraph(revisions,gender,communities_en,communities_en)\n"
   ]
  },
  {
   "cell_type": "code",
   "execution_count": 4,
   "metadata": {},
   "outputs": [],
   "source": [
    "G_en=prepgraph(revisions,gender,communities_en,communities_en)\n",
    "nx.write_gexf(G_en, \"English.gexf\")\n",
    "\n",
    "G_es=prepgraph(revisions_es,gender,communities_en,communities_es)\n",
    "nx.write_gexf(G_es, \"Spanish.gexf\")\n",
    "\n",
    "G_de=prepgraph(revisions_de,gender,communities_en,communities_de)\n",
    "nx.write_gexf(G_de, \"German.gexf\")\n",
    "\n",
    "G_fr=prepgraph(revisions_fr,gender,communities_en,communities_fr)\n",
    "nx.write_gexf(G_fr, \"French.gexf\")"
   ]
  },
  {
   "cell_type": "code",
   "execution_count": null,
   "metadata": {},
   "outputs": [],
   "source": [
    "#Small graph for growth example\n",
    "G_small = nx.DiGraph()\n",
    "G_small.add_edge('V1', 'V8')\n",
    "G_small.add_edge('V1', 'V2')\n",
    "G_small.add_edge('V2', 'V3')\n",
    "G_small.add_edge('V2', 'V4')\n",
    "G_small.add_edge('V4', 'V7')\n",
    "G_small.add_edge('V3', 'V6')\n",
    "G_small.add_edge('V2', 'V5')\n",
    "G_small.nodes['V1']['color']='1'\n",
    "G_small.nodes['V2']['color']='1'\n",
    "G_small.nodes['V3']['color']='2'\n",
    "G_small.nodes['V4']['color']='2'\n",
    "G_small.nodes['V5']['color']='3'\n",
    "G_small.nodes['V6']['color']='3'\n",
    "G_small.nodes['V7']['color']='4'\n",
    "G_small.nodes['V8']['color']='5'\n",
    "nx.write_gexf(G_small, \"small_example.gexf\")"
   ]
  }
 ],
 "metadata": {
  "kernelspec": {
   "display_name": "Python 3",
   "language": "python",
   "name": "python3"
  },
  "language_info": {
   "codemirror_mode": {
    "name": "ipython",
    "version": 3
   },
   "file_extension": ".py",
   "mimetype": "text/x-python",
   "name": "python",
   "nbconvert_exporter": "python",
   "pygments_lexer": "ipython3",
   "version": "3.11.9"
  }
 },
 "nbformat": 4,
 "nbformat_minor": 2
}
