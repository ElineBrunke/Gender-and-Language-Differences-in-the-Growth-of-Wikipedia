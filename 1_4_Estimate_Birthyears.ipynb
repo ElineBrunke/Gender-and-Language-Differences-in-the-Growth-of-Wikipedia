{
 "cells": [
  {
   "cell_type": "code",
   "execution_count": 1,
   "metadata": {},
   "outputs": [],
   "source": [
    "#import packages\n",
    "import pandas as pd\n",
    "import re\n",
    "import numpy as np"
   ]
  },
  {
   "cell_type": "code",
   "execution_count": 2,
   "metadata": {},
   "outputs": [],
   "source": [
    "df=pd.read_csv('Data/gendered_titles_final.csv')\n",
    "df=df[['Name','Text']]"
   ]
  },
  {
   "cell_type": "code",
   "execution_count": 3,
   "metadata": {},
   "outputs": [],
   "source": [
    "df['TextShort']=df['Text'].str[:1000]\n",
    "df['Year8']= df['TextShort'].apply(lambda x: re.findall(r'\\b\\d{8}\\b', str(x)))\n",
    "df['Year4'] = df['TextShort'].apply(lambda x: re.findall(r'\\b\\d{4}\\b', str(x)))\n",
    "df['Year BC/AD/CE'] = df['TextShort'].apply(lambda x: re.findall(r'\\b\\d{3}\\b', str(x)))\n",
    "df['BC']=df['TextShort'].apply(lambda x: re.findall(r' bc ', str(x)))\n",
    "df['AD']=df['TextShort'].apply(lambda x: re.findall(r' ad ', str(x)))\n",
    "df['CE']=df['TextShort'].apply(lambda x: re.findall(r' ce ', str(x)))\n",
    "df['BC']=df['BC'].apply(lambda x: 1 if len(x)>0 else 0)\n",
    "df['AD']=df['AD'].apply(lambda x: 1 if len(x)>0 else 0)\n",
    "df['CE']=df['CE'].apply(lambda x: 1 if len(x)>0 else 0)"
   ]
  },
  {
   "cell_type": "code",
   "execution_count": 4,
   "metadata": {},
   "outputs": [],
   "source": [
    "def determine_birth_year(row):\n",
    "        if row['BC']==1 and len(row['Year BC/AD/CE']) > 0:\n",
    "            return \"-\"+row['Year BC/AD/CE'][0]\n",
    "        elif (row['AD']==1 or row['CE']==1) and len(row['Year BC/AD/CE'])>0:\n",
    "            return row['Year BC/AD/CE'][0]\n",
    "        elif len(row['Year8'])>0:\n",
    "            return row['Year8'][0][0:4]\n",
    "        elif len(row['Year4']) > 0:\n",
    "            return row['Year4'][0]\n",
    "        else:\n",
    "            return np.nan\n",
    "\n",
    "df['Birth year'] = df.apply(determine_birth_year, axis=1)\n",
    "df['Birth year'] = pd.to_numeric(df['Birth year'], errors='coerce')\n",
    "df=df[df['Birth year'].notnull()]\n",
    "df=df[df['Birth year']<=2024]\n"
   ]
  },
  {
   "cell_type": "code",
   "execution_count": 5,
   "metadata": {},
   "outputs": [],
   "source": [
    "df=df[['Name','Birth year']]\n",
    "df.to_csv('Data/estimated_birth_years_1000.csv',index=False)\n"
   ]
  }
 ],
 "metadata": {
  "kernelspec": {
   "display_name": "Python 3",
   "language": "python",
   "name": "python3"
  },
  "language_info": {
   "codemirror_mode": {
    "name": "ipython",
    "version": 3
   },
   "file_extension": ".py",
   "mimetype": "text/x-python",
   "name": "python",
   "nbconvert_exporter": "python",
   "pygments_lexer": "ipython3",
   "version": "3.11.9"
  }
 },
 "nbformat": 4,
 "nbformat_minor": 2
}
