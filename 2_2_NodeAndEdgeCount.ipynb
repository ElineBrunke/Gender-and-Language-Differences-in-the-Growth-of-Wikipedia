version https://git-lfs.github.com/spec/v1
oid sha256:2f502c05594ee6ee5bd01cacd4dc23e0addc10d786071de71d1d76ebd0ff622d
size 345906
