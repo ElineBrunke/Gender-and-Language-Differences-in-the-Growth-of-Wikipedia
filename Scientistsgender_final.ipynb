{
 "cells": [
  {
   "cell_type": "code",
   "execution_count": 1,
   "metadata": {},
   "outputs": [],
   "source": [
    "import pandas as pd\n",
    "import get_gender as gg\n",
    "\n",
    "#ignore warnings\n",
    "import warnings\n",
    "warnings.filterwarnings(\"ignore\")\n"
   ]
  },
  {
   "cell_type": "markdown",
   "metadata": {},
   "source": [
    "With names of scientists, train a classifier to find the correct gender of scientists."
   ]
  },
  {
   "cell_type": "code",
   "execution_count": 2,
   "metadata": {},
   "outputs": [],
   "source": [
    "scientists_trainingdata1 = pd.read_csv('Data/testnameseline.csv')\n",
    "scientists_trainingdata1 = scientists_trainingdata1[['Name', 'Gender']]\n",
    "scientists_trainingdata2 = pd.read_csv('Data/testnameskaren.csv')\n",
    "scientists_trainingdata2 = scientists_trainingdata2[['Name', 'Gender']]\n",
    "scientists_trainingdata3 = pd.read_csv('Data/testnames300.csv', sep=';')\n",
    "scientists_trainingdata4 = pd.concat([scientists_trainingdata1,scientists_trainingdata2], axis=0, ignore_index=True)\n",
    "scientists_trainingdata = pd.concat([scientists_trainingdata4,scientists_trainingdata3], axis=0, ignore_index=True)"
   ]
  },
  {
   "cell_type": "code",
   "execution_count": 3,
   "metadata": {},
   "outputs": [],
   "source": [
    "scientists_trainingdata = scientists_trainingdata.drop_duplicates()"
   ]
  },
  {
   "cell_type": "code",
   "execution_count": 4,
   "metadata": {},
   "outputs": [
    {
     "data": {
      "text/plain": [
       "Gender\n",
       "m    466\n",
       "f    106\n",
       "Name: count, dtype: int64"
      ]
     },
     "execution_count": 4,
     "metadata": {},
     "output_type": "execute_result"
    }
   ],
   "source": [
    "scientists_trainingdata['Gender'].value_counts()"
   ]
  },
  {
   "cell_type": "code",
   "execution_count": 5,
   "metadata": {},
   "outputs": [],
   "source": [
    "scientists_trainingdata['Name'] = scientists_trainingdata['Name'].astype(str)\n"
   ]
  },
  {
   "cell_type": "code",
   "execution_count": 6,
   "metadata": {},
   "outputs": [
    {
     "data": {
      "text/html": [
       "<div>\n",
       "<style scoped>\n",
       "    .dataframe tbody tr th:only-of-type {\n",
       "        vertical-align: middle;\n",
       "    }\n",
       "\n",
       "    .dataframe tbody tr th {\n",
       "        vertical-align: top;\n",
       "    }\n",
       "\n",
       "    .dataframe thead th {\n",
       "        text-align: right;\n",
       "    }\n",
       "</style>\n",
       "<table border=\"1\" class=\"dataframe\">\n",
       "  <thead>\n",
       "    <tr style=\"text-align: right;\">\n",
       "      <th></th>\n",
       "      <th>Name</th>\n",
       "      <th>Gender</th>\n",
       "    </tr>\n",
       "  </thead>\n",
       "  <tbody>\n",
       "    <tr>\n",
       "      <th>0</th>\n",
       "      <td>Eric F. Wieschaus</td>\n",
       "      <td>m</td>\n",
       "    </tr>\n",
       "    <tr>\n",
       "      <th>1</th>\n",
       "      <td>Ferdinand Porsche</td>\n",
       "      <td>m</td>\n",
       "    </tr>\n",
       "    <tr>\n",
       "      <th>2</th>\n",
       "      <td>Teresa Melo</td>\n",
       "      <td>f</td>\n",
       "    </tr>\n",
       "    <tr>\n",
       "      <th>3</th>\n",
       "      <td>Martin Grötschel</td>\n",
       "      <td>m</td>\n",
       "    </tr>\n",
       "    <tr>\n",
       "      <th>4</th>\n",
       "      <td>Lev Berg</td>\n",
       "      <td>m</td>\n",
       "    </tr>\n",
       "    <tr>\n",
       "      <th>...</th>\n",
       "      <td>...</td>\n",
       "      <td>...</td>\n",
       "    </tr>\n",
       "    <tr>\n",
       "      <th>574</th>\n",
       "      <td>Yi Xu</td>\n",
       "      <td>f</td>\n",
       "    </tr>\n",
       "    <tr>\n",
       "      <th>575</th>\n",
       "      <td>Alexander Macfarlane</td>\n",
       "      <td>m</td>\n",
       "    </tr>\n",
       "    <tr>\n",
       "      <th>576</th>\n",
       "      <td>Ana Fernández Militino</td>\n",
       "      <td>f</td>\n",
       "    </tr>\n",
       "    <tr>\n",
       "      <th>577</th>\n",
       "      <td>Georg August Schweinfurth</td>\n",
       "      <td>m</td>\n",
       "    </tr>\n",
       "    <tr>\n",
       "      <th>578</th>\n",
       "      <td>Elizabeth Blackburn</td>\n",
       "      <td>f</td>\n",
       "    </tr>\n",
       "  </tbody>\n",
       "</table>\n",
       "<p>573 rows × 2 columns</p>\n",
       "</div>"
      ],
      "text/plain": [
       "                          Name Gender\n",
       "0            Eric F. Wieschaus      m\n",
       "1            Ferdinand Porsche      m\n",
       "2                  Teresa Melo      f\n",
       "3             Martin Grötschel      m\n",
       "4                     Lev Berg      m\n",
       "..                         ...    ...\n",
       "574                      Yi Xu      f\n",
       "575       Alexander Macfarlane      m\n",
       "576     Ana Fernández Militino      f\n",
       "577  Georg August Schweinfurth      m\n",
       "578        Elizabeth Blackburn      f\n",
       "\n",
       "[573 rows x 2 columns]"
      ]
     },
     "execution_count": 6,
     "metadata": {},
     "output_type": "execute_result"
    }
   ],
   "source": [
    "scientists_trainingdata"
   ]
  },
  {
   "cell_type": "markdown",
   "metadata": {},
   "source": [
    "The words that we are searching for as 'features' are [\"he\", \"she\", \"his\", \"him\", \"her\", \"hers\", \"male\", \"man\", \"female\", \"woman\"]. "
   ]
  },
  {
   "cell_type": "code",
   "execution_count": 7,
   "metadata": {},
   "outputs": [
    {
     "name": "stdout",
     "output_type": "stream",
     "text": [
      "Accuracy: 0.9732\n",
      "F1: 0.9302\n",
      "Confusion Matrix:\n",
      "[[20  1]\n",
      " [ 2 89]]\n"
     ]
    }
   ],
   "source": [
    "model = gg.train_model(scientists_trainingdata)"
   ]
  },
  {
   "cell_type": "markdown",
   "metadata": {},
   "source": [
    "Use model to classify gender of the remaining scientists"
   ]
  },
  {
   "cell_type": "code",
   "execution_count": null,
   "metadata": {},
   "outputs": [],
   "source": [
    "scientists=pd.read_csv('Data/titles.csv')\n"
   ]
  },
  {
   "cell_type": "code",
   "execution_count": null,
   "metadata": {},
   "outputs": [],
   "source": [
    "batch=scientists[0:10]\n",
    "unclassified_data = gg.prep_data(batch)\n",
    "unclassified_data = unclassified_data[['her', 'she', 'her', 'woman', 'female', 'he', 'his', 'him', 'man', 'male']]\n",
    "predeicted_labels = model.predict(unclassified_data)\n",
    "batch['gender'] = predeicted_labels\n",
    "dfgender=batch"
   ]
  },
  {
   "cell_type": "code",
   "execution_count": null,
   "metadata": {},
   "outputs": [],
   "source": [
    "batch=scientists[10:20]\n",
    "unclassified_data = gg.prep_data(batch)\n",
    "unclassified_data = unclassified_data[['her', 'she', 'her', 'woman', 'female', 'he', 'his', 'him', 'man', 'male']]\n",
    "predeicted_labels = model.predict(unclassified_data)\n",
    "batch['gender'] = predeicted_labels\n",
    "dfgender=pd.concat([dfgender,batch])\n",
    "dfgender.to_csv('gendered_titles2.csv', index=False)"
   ]
  },
  {
   "cell_type": "code",
   "execution_count": null,
   "metadata": {},
   "outputs": [],
   "source": [
    "dfgender=pd.read_csv('gendered_titles2.csv')\n",
    "\n",
    "batch=scientists[20:2000]\n",
    "unclassified_data = gg.prep_data(batch)\n",
    "unclassified_data = unclassified_data[['her', 'she', 'her', 'woman', 'female', 'he', 'his', 'him', 'man', 'male']]\n",
    "predeicted_labels = model.predict(unclassified_data)\n",
    "batch['gender'] = predeicted_labels\n",
    "dfgender=pd.concat([dfgender,batch])\n",
    "dfgender.to_csv('gendered_titles2.csv', index=False)"
   ]
  },
  {
   "cell_type": "code",
   "execution_count": null,
   "metadata": {},
   "outputs": [],
   "source": [
    "dfgender=pd.read_csv('gendered_titles2.csv')\n",
    "\n",
    "batch=scientists[2000:4000]\n",
    "unclassified_data = gg.prep_data(batch)\n",
    "unclassified_data = unclassified_data[['her', 'she', 'her', 'woman', 'female', 'he', 'his', 'him', 'man', 'male']]\n",
    "predeicted_labels = model.predict(unclassified_data)\n",
    "batch['gender'] = predeicted_labels\n",
    "dfgender=pd.concat([dfgender,batch])\n",
    "dfgender.to_csv('gendered_titles2.csv', index=False)"
   ]
  },
  {
   "cell_type": "code",
   "execution_count": null,
   "metadata": {},
   "outputs": [],
   "source": [
    "dfgender=pd.read_csv('gendered_titles2.csv')\n",
    "batch=scientists[4000:6000]\n",
    "unclassified_data = gg.prep_data(batch)\n",
    "unclassified_data = unclassified_data[['her', 'she', 'her', 'woman', 'female', 'he', 'his', 'him', 'man', 'male']]\n",
    "predeicted_labels = model.predict(unclassified_data)\n",
    "batch['gender'] = predeicted_labels\n",
    "dfgender=pd.concat([dfgender,batch])\n",
    "dfgender.to_csv('gendered_titles2.csv', index=False)"
   ]
  },
  {
   "cell_type": "code",
   "execution_count": null,
   "metadata": {},
   "outputs": [],
   "source": [
    "dfgender=pd.read_csv('gendered_titles2.csv')\n",
    "batch=scientists[6000:8000]\n",
    "unclassified_data = gg.prep_data(batch)\n",
    "unclassified_data = unclassified_data[['her', 'she', 'her', 'woman', 'female', 'he', 'his', 'him', 'man', 'male']]\n",
    "predeicted_labels = model.predict(unclassified_data)\n",
    "batch['gender'] = predeicted_labels\n",
    "dfgender=pd.concat([dfgender,batch])\n",
    "dfgender.to_csv('gendered_titles2.csv', index=False)"
   ]
  },
  {
   "cell_type": "code",
   "execution_count": null,
   "metadata": {},
   "outputs": [],
   "source": [
    "dfgender=pd.read_csv('gendered_titles2.csv')\n",
    "batch=scientists[8000:10000]\n",
    "unclassified_data = gg.prep_data(batch)\n",
    "unclassified_data = unclassified_data[['her', 'she', 'her', 'woman', 'female', 'he', 'his', 'him', 'man', 'male']]\n",
    "predeicted_labels = model.predict(unclassified_data)\n",
    "batch['gender'] = predeicted_labels\n",
    "dfgender=pd.concat([dfgender,batch])\n",
    "dfgender.to_csv('gendered_titles2.csv', index=False)"
   ]
  },
  {
   "cell_type": "code",
   "execution_count": null,
   "metadata": {},
   "outputs": [],
   "source": [
    "dfgender=pd.read_csv('gendered_titles2.csv')\n",
    "batch=scientists[10000:12000]\n",
    "unclassified_data = gg.prep_data(batch)\n",
    "unclassified_data = unclassified_data[['her', 'she', 'her', 'woman', 'female', 'he', 'his', 'him', 'man', 'male']]\n",
    "predeicted_labels = model.predict(unclassified_data)\n",
    "batch['gender'] = predeicted_labels\n",
    "dfgender=pd.concat([dfgender,batch])\n",
    "dfgender.to_csv('gendered_titles2.csv', index=False)"
   ]
  },
  {
   "cell_type": "code",
   "execution_count": null,
   "metadata": {},
   "outputs": [],
   "source": [
    "dfgender=pd.read_csv('gendered_titles2.csv')\n",
    "batch=scientists[12000:14000]\n",
    "unclassified_data = gg.prep_data(batch)\n",
    "unclassified_data = unclassified_data[['her', 'she', 'her', 'woman', 'female', 'he', 'his', 'him', 'man', 'male']]\n",
    "predeicted_labels = model.predict(unclassified_data)\n",
    "batch['gender'] = predeicted_labels\n",
    "dfgender=pd.concat([dfgender,batch])\n",
    "dfgender.to_csv('gendered_titles2.csv', index=False)"
   ]
  },
  {
   "cell_type": "code",
   "execution_count": null,
   "metadata": {},
   "outputs": [],
   "source": [
    "dfgender=pd.read_csv('gendered_titles2.csv')\n",
    "batch=scientists[14000:16000]\n",
    "unclassified_data = gg.prep_data(batch)\n",
    "unclassified_data = unclassified_data[['her', 'she', 'her', 'woman', 'female', 'he', 'his', 'him', 'man', 'male']]\n",
    "predeicted_labels = model.predict(unclassified_data)\n",
    "batch['gender'] = predeicted_labels\n",
    "dfgender=pd.concat([dfgender,batch])\n",
    "dfgender.to_csv('gendered_titles2.csv', index=False)"
   ]
  },
  {
   "cell_type": "code",
   "execution_count": null,
   "metadata": {},
   "outputs": [],
   "source": [
    "dfgender=pd.read_csv('gendered_titles2.csv')\n",
    "\n",
    "batch=scientists[16000:18000]\n",
    "unclassified_data = gg.prep_data(batch)\n",
    "unclassified_data = unclassified_data[['her', 'she', 'her', 'woman', 'female', 'he', 'his', 'him', 'man', 'male']]\n",
    "predeicted_labels = model.predict(unclassified_data)\n",
    "batch['gender'] = predeicted_labels\n",
    "dfgender=pd.concat([dfgender,batch])\n",
    "dfgender.to_csv('gendered_titles2.csv', index=False)"
   ]
  },
  {
   "cell_type": "code",
   "execution_count": null,
   "metadata": {},
   "outputs": [],
   "source": [
    "dfgender=pd.read_csv('gendered_titles2.csv')\n",
    "\n",
    "batch=scientists[18000:20000]\n",
    "unclassified_data = gg.prep_data(batch)\n",
    "unclassified_data = unclassified_data[['her', 'she', 'her', 'woman', 'female', 'he', 'his', 'him', 'man', 'male']]\n",
    "predeicted_labels = model.predict(unclassified_data)\n",
    "batch['gender'] = predeicted_labels\n",
    "dfgender=pd.concat([dfgender,batch])\n",
    "dfgender.to_csv('gendered_titles2.csv', index=False)"
   ]
  },
  {
   "cell_type": "code",
   "execution_count": null,
   "metadata": {},
   "outputs": [],
   "source": [
    "dfgender=pd.read_csv('gendered_titles2.csv')\n",
    "batch=scientists[20000:22000]\n",
    "unclassified_data = gg.prep_data(batch)\n",
    "unclassified_data = unclassified_data[['her', 'she', 'her', 'woman', 'female', 'he', 'his', 'him', 'man', 'male']]\n",
    "predeicted_labels = model.predict(unclassified_data)\n",
    "batch['gender'] = predeicted_labels\n",
    "dfgender=pd.concat([dfgender,batch])\n",
    "dfgender.to_csv('gendered_titles2.csv', index=False)"
   ]
  },
  {
   "cell_type": "code",
   "execution_count": null,
   "metadata": {},
   "outputs": [],
   "source": [
    "dfgender=pd.read_csv('gendered_titles2.csv')\n",
    "batch=scientists[22000:24000]\n",
    "unclassified_data = gg.prep_data(batch)\n",
    "unclassified_data = unclassified_data[['her', 'she', 'her', 'woman', 'female', 'he', 'his', 'him', 'man', 'male']]\n",
    "predeicted_labels = model.predict(unclassified_data)\n",
    "batch['gender'] = predeicted_labels\n",
    "dfgender=pd.concat([dfgender,batch])\n",
    "dfgender.to_csv('gendered_titles2.csv', index=False)"
   ]
  },
  {
   "cell_type": "code",
   "execution_count": null,
   "metadata": {},
   "outputs": [],
   "source": [
    "dfgender=pd.read_csv('gendered_titles2.csv')\n",
    "batch=scientists[24000:26000]\n",
    "unclassified_data = gg.prep_data(batch)\n",
    "unclassified_data = unclassified_data[['her', 'she', 'her', 'woman', 'female', 'he', 'his', 'him', 'man', 'male']]\n",
    "predeicted_labels = model.predict(unclassified_data)\n",
    "batch['gender'] = predeicted_labels\n",
    "dfgender=pd.concat([dfgender,batch])\n",
    "dfgender.to_csv('gendered_titles2.csv', index=False)"
   ]
  },
  {
   "cell_type": "code",
   "execution_count": null,
   "metadata": {},
   "outputs": [],
   "source": [
    "dfgender=pd.read_csv('gendered_titles2.csv')\n",
    "batch=scientists[26000:len(scientists)-1]\n",
    "unclassified_data = gg.prep_data(batch)\n",
    "unclassified_data = unclassified_data[['her', 'she', 'her', 'woman', 'female', 'he', 'his', 'him', 'man', 'male']]\n",
    "predeicted_labels = model.predict(unclassified_data)\n",
    "batch['gender'] = predeicted_labels\n",
    "dfgender=pd.concat([dfgender,batch])\n",
    "dfgender.to_csv('gendered_titles2.csv', index=False)"
   ]
  },
  {
   "cell_type": "code",
   "execution_count": null,
   "metadata": {},
   "outputs": [
    {
     "data": {
      "text/html": [
       "<div>\n",
       "<style scoped>\n",
       "    .dataframe tbody tr th:only-of-type {\n",
       "        vertical-align: middle;\n",
       "    }\n",
       "\n",
       "    .dataframe tbody tr th {\n",
       "        vertical-align: top;\n",
       "    }\n",
       "\n",
       "    .dataframe thead th {\n",
       "        text-align: right;\n",
       "    }\n",
       "</style>\n",
       "<table border=\"1\" class=\"dataframe\">\n",
       "  <thead>\n",
       "    <tr style=\"text-align: right;\">\n",
       "      <th></th>\n",
       "      <th>Name</th>\n",
       "      <th>he</th>\n",
       "      <th>she</th>\n",
       "      <th>his</th>\n",
       "      <th>him</th>\n",
       "      <th>her</th>\n",
       "      <th>hers</th>\n",
       "      <th>male</th>\n",
       "      <th>man</th>\n",
       "      <th>female</th>\n",
       "      <th>woman</th>\n",
       "      <th>Text</th>\n",
       "      <th>word_count</th>\n",
       "      <th>gender</th>\n",
       "    </tr>\n",
       "  </thead>\n",
       "  <tbody>\n",
       "    <tr>\n",
       "      <th>0</th>\n",
       "      <td>Paul Erdős</td>\n",
       "      <td>66</td>\n",
       "      <td>0</td>\n",
       "      <td>68</td>\n",
       "      <td>10</td>\n",
       "      <td>0</td>\n",
       "      <td>0</td>\n",
       "      <td>0</td>\n",
       "      <td>3</td>\n",
       "      <td>0</td>\n",
       "      <td>0</td>\n",
       "      <td>paul erds hungarian erds pl rd pal 26 march 19...</td>\n",
       "      <td>3484.0</td>\n",
       "      <td>m</td>\n",
       "    </tr>\n",
       "    <tr>\n",
       "      <th>1</th>\n",
       "      <td>János Aczél</td>\n",
       "      <td>0</td>\n",
       "      <td>0</td>\n",
       "      <td>0</td>\n",
       "      <td>0</td>\n",
       "      <td>0</td>\n",
       "      <td>0</td>\n",
       "      <td>0</td>\n",
       "      <td>0</td>\n",
       "      <td>0</td>\n",
       "      <td>0</td>\n",
       "      <td>jnos aczl may refer to\\n\\njnos aczl royal secr...</td>\n",
       "      <td>19.0</td>\n",
       "      <td>m</td>\n",
       "    </tr>\n",
       "    <tr>\n",
       "      <th>2</th>\n",
       "      <td>Ron Aharoni</td>\n",
       "      <td>4</td>\n",
       "      <td>0</td>\n",
       "      <td>3</td>\n",
       "      <td>0</td>\n",
       "      <td>0</td>\n",
       "      <td>0</td>\n",
       "      <td>0</td>\n",
       "      <td>1</td>\n",
       "      <td>0</td>\n",
       "      <td>0</td>\n",
       "      <td>ron aharoni hebrew    born 1952 is an israeli ...</td>\n",
       "      <td>326.0</td>\n",
       "      <td>m</td>\n",
       "    </tr>\n",
       "    <tr>\n",
       "      <th>3</th>\n",
       "      <td>Martin Aigner</td>\n",
       "      <td>1</td>\n",
       "      <td>0</td>\n",
       "      <td>3</td>\n",
       "      <td>0</td>\n",
       "      <td>0</td>\n",
       "      <td>0</td>\n",
       "      <td>0</td>\n",
       "      <td>0</td>\n",
       "      <td>0</td>\n",
       "      <td>0</td>\n",
       "      <td>martin aigner 28 february 1942  11 october 202...</td>\n",
       "      <td>302.0</td>\n",
       "      <td>m</td>\n",
       "    </tr>\n",
       "    <tr>\n",
       "      <th>4</th>\n",
       "      <td>Miklós Ajtai</td>\n",
       "      <td>9</td>\n",
       "      <td>0</td>\n",
       "      <td>3</td>\n",
       "      <td>1</td>\n",
       "      <td>0</td>\n",
       "      <td>0</td>\n",
       "      <td>0</td>\n",
       "      <td>0</td>\n",
       "      <td>0</td>\n",
       "      <td>0</td>\n",
       "      <td>mikls ajtai born 2 july 1946 is a computer sci...</td>\n",
       "      <td>474.0</td>\n",
       "      <td>m</td>\n",
       "    </tr>\n",
       "    <tr>\n",
       "      <th>...</th>\n",
       "      <td>...</td>\n",
       "      <td>...</td>\n",
       "      <td>...</td>\n",
       "      <td>...</td>\n",
       "      <td>...</td>\n",
       "      <td>...</td>\n",
       "      <td>...</td>\n",
       "      <td>...</td>\n",
       "      <td>...</td>\n",
       "      <td>...</td>\n",
       "      <td>...</td>\n",
       "      <td>...</td>\n",
       "      <td>...</td>\n",
       "      <td>...</td>\n",
       "    </tr>\n",
       "    <tr>\n",
       "      <th>28821</th>\n",
       "      <td>Orvar Löfgren</td>\n",
       "      <td>5</td>\n",
       "      <td>0</td>\n",
       "      <td>4</td>\n",
       "      <td>0</td>\n",
       "      <td>0</td>\n",
       "      <td>0</td>\n",
       "      <td>0</td>\n",
       "      <td>0</td>\n",
       "      <td>0</td>\n",
       "      <td>0</td>\n",
       "      <td>orvar lfgren born 1943 is a swedish professor ...</td>\n",
       "      <td>303.0</td>\n",
       "      <td>m</td>\n",
       "    </tr>\n",
       "    <tr>\n",
       "      <th>28822</th>\n",
       "      <td>Margareta Wahlström</td>\n",
       "      <td>0</td>\n",
       "      <td>14</td>\n",
       "      <td>0</td>\n",
       "      <td>0</td>\n",
       "      <td>7</td>\n",
       "      <td>0</td>\n",
       "      <td>0</td>\n",
       "      <td>0</td>\n",
       "      <td>0</td>\n",
       "      <td>0</td>\n",
       "      <td>margareta wahlstrm born 30 march 1950 is a swe...</td>\n",
       "      <td>428.0</td>\n",
       "      <td>f</td>\n",
       "    </tr>\n",
       "    <tr>\n",
       "      <th>28823</th>\n",
       "      <td>Harald Cramér</td>\n",
       "      <td>18</td>\n",
       "      <td>0</td>\n",
       "      <td>22</td>\n",
       "      <td>2</td>\n",
       "      <td>2</td>\n",
       "      <td>0</td>\n",
       "      <td>0</td>\n",
       "      <td>0</td>\n",
       "      <td>0</td>\n",
       "      <td>0</td>\n",
       "      <td>harald cramr swedish kramer 25 september 1893 ...</td>\n",
       "      <td>1040.0</td>\n",
       "      <td>m</td>\n",
       "    </tr>\n",
       "    <tr>\n",
       "      <th>28824</th>\n",
       "      <td>Karl Gustav Jöreskog</td>\n",
       "      <td>5</td>\n",
       "      <td>0</td>\n",
       "      <td>1</td>\n",
       "      <td>0</td>\n",
       "      <td>0</td>\n",
       "      <td>0</td>\n",
       "      <td>0</td>\n",
       "      <td>0</td>\n",
       "      <td>0</td>\n",
       "      <td>0</td>\n",
       "      <td>karl gustav jreskog born 25 april 1935 is a sw...</td>\n",
       "      <td>475.0</td>\n",
       "      <td>m</td>\n",
       "    </tr>\n",
       "    <tr>\n",
       "      <th>28825</th>\n",
       "      <td>Gunnar Kulldorff</td>\n",
       "      <td>17</td>\n",
       "      <td>0</td>\n",
       "      <td>4</td>\n",
       "      <td>0</td>\n",
       "      <td>0</td>\n",
       "      <td>0</td>\n",
       "      <td>0</td>\n",
       "      <td>0</td>\n",
       "      <td>0</td>\n",
       "      <td>0</td>\n",
       "      <td>gunnar kulldorff 6 december 1927  25 june 2015...</td>\n",
       "      <td>698.0</td>\n",
       "      <td>m</td>\n",
       "    </tr>\n",
       "  </tbody>\n",
       "</table>\n",
       "<p>28826 rows × 14 columns</p>\n",
       "</div>"
      ],
      "text/plain": [
       "                       Name  he  she  his  him  her  hers  male  man  female  \\\n",
       "0                Paul Erdős  66    0   68   10    0     0     0    3       0   \n",
       "1               János Aczél   0    0    0    0    0     0     0    0       0   \n",
       "2               Ron Aharoni   4    0    3    0    0     0     0    1       0   \n",
       "3             Martin Aigner   1    0    3    0    0     0     0    0       0   \n",
       "4              Miklós Ajtai   9    0    3    1    0     0     0    0       0   \n",
       "...                     ...  ..  ...  ...  ...  ...   ...   ...  ...     ...   \n",
       "28821         Orvar Löfgren   5    0    4    0    0     0     0    0       0   \n",
       "28822   Margareta Wahlström   0   14    0    0    7     0     0    0       0   \n",
       "28823         Harald Cramér  18    0   22    2    2     0     0    0       0   \n",
       "28824  Karl Gustav Jöreskog   5    0    1    0    0     0     0    0       0   \n",
       "28825      Gunnar Kulldorff  17    0    4    0    0     0     0    0       0   \n",
       "\n",
       "       woman                                               Text  word_count  \\\n",
       "0          0  paul erds hungarian erds pl rd pal 26 march 19...      3484.0   \n",
       "1          0  jnos aczl may refer to\\n\\njnos aczl royal secr...        19.0   \n",
       "2          0  ron aharoni hebrew    born 1952 is an israeli ...       326.0   \n",
       "3          0  martin aigner 28 february 1942  11 october 202...       302.0   \n",
       "4          0  mikls ajtai born 2 july 1946 is a computer sci...       474.0   \n",
       "...      ...                                                ...         ...   \n",
       "28821      0  orvar lfgren born 1943 is a swedish professor ...       303.0   \n",
       "28822      0  margareta wahlstrm born 30 march 1950 is a swe...       428.0   \n",
       "28823      0  harald cramr swedish kramer 25 september 1893 ...      1040.0   \n",
       "28824      0  karl gustav jreskog born 25 april 1935 is a sw...       475.0   \n",
       "28825      0  gunnar kulldorff 6 december 1927  25 june 2015...       698.0   \n",
       "\n",
       "      gender  \n",
       "0          m  \n",
       "1          m  \n",
       "2          m  \n",
       "3          m  \n",
       "4          m  \n",
       "...      ...  \n",
       "28821      m  \n",
       "28822      f  \n",
       "28823      m  \n",
       "28824      m  \n",
       "28825      m  \n",
       "\n",
       "[28826 rows x 14 columns]"
      ]
     },
     "execution_count": 43,
     "metadata": {},
     "output_type": "execute_result"
    }
   ],
   "source": [
    "dfgender"
   ]
  },
  {
   "cell_type": "code",
   "execution_count": null,
   "metadata": {},
   "outputs": [],
   "source": [
    "dfgender.to_csv('gendered_titles2.csv', index=False)"
   ]
  }
 ],
 "metadata": {
  "kernelspec": {
   "display_name": "Python 3",
   "language": "python",
   "name": "python3"
  },
  "language_info": {
   "codemirror_mode": {
    "name": "ipython",
    "version": 3
   },
   "file_extension": ".py",
   "mimetype": "text/x-python",
   "name": "python",
   "nbconvert_exporter": "python",
   "pygments_lexer": "ipython3",
   "version": "3.12.1"
  }
 },
 "nbformat": 4,
 "nbformat_minor": 2
}
