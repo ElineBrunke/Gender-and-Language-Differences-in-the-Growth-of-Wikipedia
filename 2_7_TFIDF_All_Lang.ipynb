{
 "cells": [
  {
   "cell_type": "code",
   "execution_count": 1,
   "metadata": {},
   "outputs": [],
   "source": [
    "import pandas as pd\n",
    "from collections import Counter\n",
    "import re\n",
    "import numpy as np\n",
    "import textfunctions as tf\n"
   ]
  },
  {
   "cell_type": "markdown",
   "metadata": {},
   "source": [
    "Prep text"
   ]
  },
  {
   "cell_type": "code",
   "execution_count": null,
   "metadata": {},
   "outputs": [],
   "source": [
    "df_names=pd.read_csv('Data/titles.csv')\n",
    "df_all=pd.read_csv('text_and_community_infomap.csv')\n",
    "df_all=df_all.drop_duplicates(subset=['Name','Text','Community ID'])\n",
    "df_all['Text'] = df_all['Text'].fillna('')\n",
    "df_all['Text'] = df_all['Text'].apply(tf.remove_names)\n",
    "df_all['Stemmed Text'] = df_all['Text'].apply(tf.stem)\n",
    "corpus=' '.join(df_all['Stemmed Text'])\n",
    "df_all.to_csv('preppedtext.csv',index=False)"
   ]
  },
  {
   "cell_type": "markdown",
   "metadata": {},
   "source": [
    "Opening and preparing dataframes"
   ]
  },
  {
   "cell_type": "code",
   "execution_count": 2,
   "metadata": {},
   "outputs": [],
   "source": [
    "df_de=pd.read_csv('all_communities_infomap_de.csv',sep=';')\n",
    "df_fr=pd.read_csv('all_communities_infomap_fr.csv',sep=';')\n",
    "df_es=pd.read_csv('all_communities_infomap_es.csv',sep=';')\n",
    "df_en=pd.read_csv('all_communities_infomap.csv',sep=';')\n",
    "df_text=pd.read_csv('preppedtext.csv')\n",
    "df_text=df_text[['Name','Stemmed Text']]"
   ]
  },
  {
   "cell_type": "code",
   "execution_count": 3,
   "metadata": {},
   "outputs": [],
   "source": [
    "def prepdataframe(df):\n",
    "    df=df[df['Year']==2024]\n",
    "    df['Members']=df['Members'].apply(lambda x: x.split(', '))\n",
    "    df=df.explode('Members')\n",
    "    df.rename(columns = {'Members':'Name'}, inplace = True)\n",
    "    df=df[['Community ID','Percentage of Women','Name','Size']]\n",
    "    df=df.merge(df_text, on='Name', how='left')\n",
    "    df['Stemmed Text']=df['Stemmed Text'].fillna('')\n",
    "    df_com=df.groupby('Community ID').agg({'Stemmed Text':'sum'}).reset_index()\n",
    "    communities=df_com['Community ID'].tolist()\n",
    "    return df,df_com,communities"
   ]
  },
  {
   "cell_type": "markdown",
   "metadata": {},
   "source": [
    "Calculating TF-IDF-scores"
   ]
  },
  {
   "cell_type": "code",
   "execution_count": 4,
   "metadata": {},
   "outputs": [],
   "source": [
    "def tfidf(df,communities):\n",
    "    community_texts = {comid: df[df['Community ID'] == comid]['Stemmed Text'].values[0] for comid in communities}\n",
    "    community_word_counts = {comid: Counter(re.findall(r'\\b\\w+\\b', text)) for comid, text in community_texts.items()}\n",
    "    community_number = {comid: len(df[df['Community ID'] == comid]['Stemmed Text'].values[0].split()) for comid in communities}\n",
    "    tfidf_scores = {}\n",
    "    for communityid in communities:\n",
    "        community_words = community_word_counts[communityid]    \n",
    "        community_count=community_number[communityid]\n",
    "        total_documents = len(df)\n",
    "        TFIDFSCORES = {}\n",
    "        for word, count in community_words.items():\n",
    "            TF = count / community_count\n",
    "            count_other_com = sum([1 for comid in communities if word in community_word_counts[comid] and comid != communityid])\n",
    "            IDF = np.log(total_documents / (count_other_com+1))\n",
    "            TFIDFSCORES[word] = TF*IDF      \n",
    "        tfidflist = sorted(TFIDFSCORES.items(), key=lambda x: x[1], reverse=True)\n",
    "        tfidf_scores[communityid] = tfidflist\n",
    "    return tfidf_scores\n",
    "def get_top_words(tfidf_scores,communities):\n",
    "    top_words={}\n",
    "    for comid in communities:\n",
    "        top_words[comid]=[word for word,score in tfidf_scores[comid][:30]]\n",
    "    return top_words  "
   ]
  },
  {
   "cell_type": "code",
   "execution_count": 5,
   "metadata": {},
   "outputs": [],
   "source": [
    "def get_scores(df):\n",
    "    df,df_com,communities=prepdataframe(df)\n",
    "    tfidf_scores=tfidf(df_com,communities)\n",
    "    top_words=get_top_words(tfidf_scores,communities)\n",
    "    id_list=[]\n",
    "    size_list=[]\n",
    "    women_list=[]\n",
    "    top_words_list=[]\n",
    "    for com in communities:\n",
    "        id_list.append(com)\n",
    "        size_list.append(df[df['Community ID']==com]['Size'].values[0])\n",
    "        women_list.append(df[df['Community ID']==com]['Percentage of Women'].values[0])\n",
    "        top_words_list.append(top_words[com])\n",
    "    df_output=pd.DataFrame()\n",
    "    df_output['Community ID']=id_list\n",
    "    df_output['Size']=size_list\n",
    "    df_output['Percentage of female members']=women_list\n",
    "    df_output['Top words']=top_words_list\n",
    "    return df_output"
   ]
  },
  {
   "cell_type": "code",
   "execution_count": null,
   "metadata": {},
   "outputs": [],
   "source": [
    "output_de=get_scores(df_de)\n",
    "output_fr=get_scores(df_fr)\n",
    "output_es=get_scores(df_es)\n",
    "output_en=get_scores(df_en)\n",
    "\n",
    "output_de['Lang']='de'\n",
    "output_fr['Lang']='fr'\n",
    "output_es['Lang']='es'\n",
    "output_en['Lang']='en'"
   ]
  },
  {
   "cell_type": "code",
   "execution_count": 7,
   "metadata": {},
   "outputs": [],
   "source": [
    "output_de=output_de[output_de['Size']>50]\n",
    "output_fr=output_fr[output_fr['Size']>50]\n",
    "output_es=output_es[output_es['Size']>50]\n",
    "output_en=output_en[output_en['Size']>50]"
   ]
  },
  {
   "cell_type": "markdown",
   "metadata": {},
   "source": [
    "Converting to a table that can fit in appendix"
   ]
  },
  {
   "cell_type": "code",
   "execution_count": 8,
   "metadata": {},
   "outputs": [],
   "source": [
    "\n",
    "def convert(df):\n",
    "    df['Topwords1']=df['Top words'].apply(lambda x: ', '.join(x[:10]))\n",
    "    df['Topwords2']=df['Top words'].apply(lambda x: ', '.join(x[10:20]))\n",
    "    df['Topwords3']=df['Top words'].apply(lambda x: ', '.join(x[20:30]))\n",
    "    df=df[['Community ID','Size','Percentage of female members','Topwords1','Topwords2','Topwords3','Lang']]\n",
    "    reshaped_df = pd.melt(\n",
    "    df,\n",
    "        id_vars=[\"Community ID\", \"Size\",'Percentage of female members','Lang'], \n",
    "        value_vars=['Topwords1','Topwords2','Topwords3'],  \n",
    "        var_name=\"NewColumn\", \n",
    "        value_name=\"NewValue\" \n",
    "    )\n",
    "    \n",
    "    reshaped_df['Community ID-NewColumn']=reshaped_df['Community ID'].astype(str)+'-'+reshaped_df['NewColumn']\n",
    "    reshaped_df=reshaped_df.sort_values('Community ID-NewColumn')\n",
    "\n",
    "    return reshaped_df\n",
    "\n",
    "output_de=convert(output_de)\n",
    "output_fr=convert(output_fr)\n",
    "output_es=convert(output_es)\n",
    "output_en=convert(output_en)\n",
    "\n",
    "\n"
   ]
  },
  {
   "cell_type": "markdown",
   "metadata": {},
   "source": [
    "Save TF-IDF data"
   ]
  },
  {
   "cell_type": "code",
   "execution_count": 9,
   "metadata": {},
   "outputs": [],
   "source": [
    "output=pd.concat([output_de,output_fr,output_es,output_en])\n",
    "output.to_csv('TFIDF-top30.csv',index=False)"
   ]
  }
 ],
 "metadata": {
  "kernelspec": {
   "display_name": "Python 3",
   "language": "python",
   "name": "python3"
  },
  "language_info": {
   "codemirror_mode": {
    "name": "ipython",
    "version": 3
   },
   "file_extension": ".py",
   "mimetype": "text/x-python",
   "name": "python",
   "nbconvert_exporter": "python",
   "pygments_lexer": "ipython3",
   "version": "3.11.9"
  }
 },
 "nbformat": 4,
 "nbformat_minor": 2
}
